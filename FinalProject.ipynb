{
 "cells": [
  {
   "cell_type": "markdown",
   "metadata": {},
   "source": [
    "Group Members\n",
    "--------------\n",
    "Edwin Martinez PID: A11151619\n",
    "Hannah Marie Valenzuela PID:\n",
    "Raafat Samuail PID:"
   ]
  },
  {
   "cell_type": "markdown",
   "metadata": {},
   "source": [
    "## Introduction and Background\n"
   ]
  },
  {
   "cell_type": "markdown",
   "metadata": {},
   "source": [
    "Many people in the United States try to make a better life for themselves. This often implies to get a better education and get a degree in order to compete in the job market. Attending a Universtity is a way for teenagers to enter a program that trains them for a certain profession. It is no wonder why most teenageers are matriculated into a university in hopes of obtaining a job once their studies conclude.   However, university/college tuition in the United States is not free, and it's no surprise that the cost of a degree has changed. This leads us to our question,\n",
    " * how much has tuition changed over the years since [INSERT YEAR HERE], with respect to the avarege income.\n",
    "\n",
    "\n",
    "This question is important to us for different reasons. One being that everyone involved in this project comes from low income families, and is currently attending one of the most expensive public schools. We were wondering how much the tuition has changed. At  the same time, we were able to find datasets for 2 decades from the Department of Education. The reason why this was important to us is because we have recently experienced an increase in tuition, and this is worrisome because there are still other materials (books, writing utensils, etc.) that aren't accounted for in our tuition.\n",
    "\tBased on New York Times, the tuitions and fees have increased about $155 for a four year public school, and it reaches an average of $3000 per a year. Now if we compare that price to today’s cost of attendance, we will see a massive gap in price range. Now in terms of financial aid, based on the College Board Organization, an undergraduate student used to get financial aid that covers all his/her tution, and in fact he/she was able to save some of it. Now this is not the case because tution seems to be increasing more as the years pass.\n"
   ]
  },
  {
   "cell_type": "markdown",
   "metadata": {},
   "source": [
    "## Data Description"
   ]
  },
  {
   "cell_type": "markdown",
   "metadata": {},
   "source": [
    "Since we decide to see the change in tution with respect to income, we needed real data that come from the actual Department of \n",
    "Education of the United States. The Department of Eduacation had public dataset that is over 230 MB in huge zip file. The data \n",
    "in the zip file was from 1996/1997 to 2016/2017. In addition, the files where saved in csv files, and those files had so much \n",
    "information. The information were about all undergraduate degree-granting institutions, and it included student completion, \n",
    "debt and repayment, earnings, and more. After finding the dataset that can show us the tution from creditable department, now is\n",
    "the time to find another dataset that represent avarge income per states. Now income is another importat aspect that we are \n",
    "considering. After searching for many hours, we end up at the Deparment of Census. Department of Census has dataset for the \n",
    "income and proveity for different years. Their data was divided by state, race, and the top 5% of popliation. "
   ]
  },
  {
   "cell_type": "markdown",
   "metadata": {},
   "source": [
    "# Data Cleaning/ Pre-processing"
   ]
  },
  {
   "cell_type": "markdown",
   "metadata": {},
   "source": [
    "# Data Vizualization"
   ]
  },
  {
   "cell_type": "code",
   "execution_count": null,
   "metadata": {
    "collapsed": true,
    "scrolled": true
   },
   "outputs": [],
   "source": [
    "%matplotlib inline\n",
    "import numpy as np\n",
    "import pandas as pd\n",
    "import matplotlib.pyplot as plt\n",
    "import glob\n",
    "from scipy.stats import uniform\n",
    "\n",
    "fields=['STABBR','TUITIONFEE_IN','TUITIONFEE_OUT'] #columns to extract from CSV files\n",
    "\n",
    "path ='CollegeScorecard_Raw_Data'\n",
    "allFiles = glob.glob(path + \"/*.csv\")\n",
    "avg_instate_tuition=[]\n",
    "avg_outstate_tuition=[]\n",
    "years=[] \n",
    "dfs=[] # array of dataframes for each year. Index refers to year\n",
    "timeline = range(2000,2016) #range to create timeline of data we have\n",
    "\n",
    "#for loop to fill in the timeline array with the correct years\n",
    "for time in timeline:\n",
    "    years.append(time)\n",
    "\n",
    "#for loop that will fill in dfs array with dataframes corresponding to each year\n",
    "#also calculates the average instate and out-of-state tuition per year\n",
    "for file_ in allFiles:\n",
    "    df = pd.read_csv(file_,usecols=fields)\n",
    "    dfs.append(df) \n",
    "    avg_instate = df['TUITIONFEE_IN'].mean()\n",
    "    avg_outstate=df['TUITIONFEE_OUT'].mean()\n",
    "    avg_instate_tuition.append(avg_instate)\n",
    "    avg_outstate_tuition.append(avg_outstate)\n",
    "\n",
    "#creates dataframe to hold average instate and out-of-state tution for years 2000-2015\n",
    "avg_tuition = pd.DataFrame({'Year': years,'Avg. Instate Tuition': avg_instate_tuition,'Avg. Out-of-State Tuition': avg_outstate_tuition})\n",
    "plt.figure();avg_tuition.plot(x='Year'); #plot of average instate and out-of-state tution from years 2000-2015\n",
    "\n",
    "#loop through all dataframes in dfs array and drop na values,set index to state and sort it by state\n",
    "#Calculate average instate and out-of-stae tuition by state and save it to dfs array\n",
    "i = 0\n",
    "for df in dfs:\n",
    "    df.dropna(how='any',inplace=True)\n",
    "    df['Year']=years[i]\n",
    "    df = df.groupby(['STABBR']).mean()\n",
    "    dfs[i]=df\n",
    "    i= i +1\n",
    "result=pd.concat(dfs)\n",
    "instate_tuition = result.drop('TUITIONFEE_OUT',axis=1)\n",
    "outofstate_tuition = result.drop('TUITIONFEE_IN',axis=1)\n",
    "#print(instate_tuition)\n",
    "\n",
    "fig, ax = plt.subplots()\n",
    "colors = ['r', 'b','y','g','m','c','k','w']\n",
    "index = 0\n",
    "for key, grp in instate_tuition.groupby(['STABBR']):\n",
    "    ax = grp.plot(ax=ax, kind='scatter', x='Year', y='TUITIONFEE_IN', label=key, c = colors[index])\n",
    "    index = index +1\n",
    "    if index == len(colors):\n",
    "        index = 0\n",
    "plt.legend(bbox_to_anchor=(1.05, 1), loc=2, borderaxespad=0.)\n",
    "plt.show()\n",
    "    \n"
   ]
  },
  {
   "cell_type": "code",
   "execution_count": 2,
   "metadata": {},
   "outputs": [
    {
     "name": "stdout",
     "output_type": "stream",
     "text": [
      "    rank           state      2015    2014      2013      2012      2011  \\\n",
      "0    1.0        Maryland  $75,847   73,971  $72,483   $71,122   $70,004    \n",
      "1    3.0          Alaska  $73,355   71,583  $72,237   $67,712   $67,825    \n",
      "2    4.0      New Jersey  $72,222   71,919  $70,165   $69,667   $67,458    \n",
      "3    5.0     Connecticut  $71,346   70,048  $67,098   $67,276   $65,753    \n",
      "5    6.0   Massachusetts  $70,628   69,160  $66,768   $65,339   $62,859    \n",
      "6    7.0   New Hampshire  $70,303   66,532  $64,230   $63,280   $62,647    \n",
      "7    8.0        Virginia  $66,262   64,902  $62,666   $61,741   $61,882    \n",
      "8    2.0          Hawaii  $73,486   69,592  $68,020   $66,259   $61,821    \n",
      "9   14.0        Delaware  $61,255   59,716  $57,846   $58,415   $58,814    \n",
      "10   9.0      California  $64,500   61,933  $60,190   $58,328   $57,287    \n",
      "11  12.0       Minnesota  $63,488   61,481  $60,702   $58,906   $56,954    \n",
      "12  10.0      Washington  $64,129   61,366  $58,405   $57,573   $56,835    \n",
      "13  17.0         Wyoming  $60,214   57,055  $58,752   $54,901   $56,322    \n",
      "14  13.0            Utah  $62,912   60,922  $59,770   $57,049   $55,869    \n",
      "15  11.0        Colorado  $63,909   61,303  $58,823   $56,765   $55,387    \n",
      "16  15.0        New York  $60,850   58,878  $57,369   $56,448   $55,246    \n",
      "17  19.0    Rhode Island  $58,073   54,891  $55,902   $54,554   $53,636    \n",
      "18  18.0        Illinois  $59,588   57,444  $56,210   $55,137   $53,234    \n",
      "19  20.0         Vermont  $56,990   54,166  $52,578   $52,977   $52,776    \n",
      "20  16.0    North Dakota  $60,557   59,029  $55,759   $53,585   $51,704    \n",
      "21  23.0       Wisconsin  $55,638   52,622  $51,467   $51,059   $50,395    \n",
      "22  24.0        Nebraska  $54,996   52,686  $51,440   $50,723   $50,296    \n",
      "23  21.0    Pennsylvania  $55,702   53,234  $52,007   $51,230   $50,228    \n",
      "24  25.0            Iowa  $54,736   53,712  $52,229   $50,957   $49,427    \n",
      "25  22.0           Texas  $55,653   53,035  $51,704   $50,740   $49,392    \n",
      "26  27.0          Kansas  $53,906   52,504  $50,972   $50,241   $48,964    \n",
      "27  29.0          Nevada  $52,431   51,450  $51,230   $49,760   $48,927    \n",
      "28  28.0    South Dakota  $53,017   50,979  $48,947   $48,362   $48,321    \n",
      "29  26.0          Oregon  $54,148   51,075  $50,251   $49,161   $46,816    \n",
      "30  31.0         Arizona  $51,492   50,068  $48,510   $47,826   $46,709    \n",
      "31  35.0         Indiana  $50,532   49,446  $47,529   $46,974   $46,438    \n",
      "32  30.0           Maine  $51,494   49,462  $46,974   $46,709   $46,033    \n",
      "33  32.0         Georgia  $51,244   49,321  $47,829   $47,209   $46,007    \n",
      "34  33.0        Michigan  $51,084   49,847  $48,273   $46,859   $45,981    \n",
      "35  34.0            Ohio  $51,075   49,308  $48,081   $46,829   $45,749    \n",
      "36  36.0        Missouri  $50,238   48,363  $46,931   $45,321   $45,247    \n",
      "37  38.0         Florida  $49,426   47,463  $46,036   $45,040   $44,299    \n",
      "38  37.0         Montana  $49,509   46,328  $46,972   $45,076   $44,222    \n",
      "39  41.0  North Carolina  $47,830   46,556  $45,906   $45,150   $43,916    \n",
      "40  40.0           Idaho  $48,275   47,861  $46,783   $45,489   $43,341    \n",
      "41  39.0        Oklahoma  $48,568   47,529  $45,690   $44,312   $43,225    \n",
      "42  43.0  South Carolina  $47,238   45,238  $44,163   $43,107   $42,367    \n",
      "43  45.0      New Mexico  $45,382   44,803  $43,872   $42,558   $41,963    \n",
      "44  44.0       Louisiana  $45,727   44,555  $44,164   $42,944   $41,734    \n",
      "45  42.0       Tennessee  $47,275   44,361  $44,297   $42,764   $41,693    \n",
      "46  47.0         Alabama  $44,765   42,830  $42,849   $41,574   $41,415    \n",
      "47  46.0        Kentucky  $45,215   42,958  $43,399   $41,724   $41,141    \n",
      "48  49.0        Arkansas  $41,995   41,262  $40,511   $40,112   $38,758    \n",
      "49  48.0   West Virginia  $42,019   41,059  $41,253   $40,196   $38,482    \n",
      "50  50.0     Mississippi  $40,593   39,680  $37,963   $37,095   $36,919    \n",
      "\n",
      "    2010      2009      2008      2007      2006  \n",
      "0    NaN  $69,272   $70,545   $68,080   $62,372   \n",
      "1    NaN  $66,953   $68,460   $64,333   $57,639   \n",
      "2    NaN  $68,342   $70,378   $67,035   $64,169   \n",
      "3    NaN  $67,034   $68,595   $65,967   $59,972   \n",
      "5    NaN  $64,081   $65,401   $62,365   $56,236   \n",
      "6    NaN  $60,567   $63,731   $62,369   $60,489   \n",
      "7    NaN  $59,330   $61,233   $59,562   $55,108   \n",
      "8    NaN  $64,098   $67,214   $63,746   $60,681   \n",
      "9    NaN  $56,860   $57,989   $54,610   $52,214   \n",
      "10   NaN  $58,931   $61,021   $59,948   $53,770   \n",
      "11   NaN  $55,616   $57,288   $55,082   $57,363   \n",
      "12   NaN  $56,548   $58,078   $55,591   $53,439   \n",
      "13   NaN  $52,664   $53,207   $51,731   $47,227   \n",
      "14   NaN  $55,117   $56,633   $55,109   $55,179   \n",
      "15   NaN  $55,430   $56,993   $55,212   $54,039   \n",
      "16   NaN  $54,659   $56,033   $53,514   $48,201   \n",
      "17   NaN  $54,119   $55,701   $53,568   $52,003   \n",
      "18   NaN  $53,966   $56,235   $54,124   $49,280   \n",
      "19   NaN  $51,618   $52,104   $49,907   $51,622   \n",
      "20   NaN  $47,827   $45,685   $43,753   $43,753   \n",
      "21   NaN  $49,993   $52,094   $50,578   $48,874   \n",
      "22   NaN  $47,357   $49,693   $47,085   $48,126   \n",
      "23   NaN  $49,520   $50,713   $48,576   $47,791   \n",
      "24   NaN  $48,044   $48,980   $47,292   $47,489   \n",
      "25   NaN  $48,259   $50,043   $47,548   $43,425   \n",
      "26   NaN  $47,817   $50,177   $47,451   $44,264   \n",
      "27   NaN  $53,341   $56,361   $55,062   $50,819   \n",
      "28   NaN  $45,043   $46,032   $43,424   $44,624   \n",
      "29   NaN  $48,457   $50,169   $48,730   $45,485   \n",
      "30   NaN  $48,745   $50,958   $49,889   $46,729   \n",
      "31   NaN  $45,424   $47,966   $47,448   $44,806   \n",
      "32   NaN  $45,734   $46,581   $45,888   $45,040   \n",
      "33   NaN  $47,590   $50,861   $49,136   $46,841   \n",
      "34   NaN  $45,255   $48,591   $47,950   $47,064   \n",
      "35   NaN  $45,395   $47,988   $46,597   $45,837   \n",
      "36   NaN  $45,229   $46,867   $45,114   $44,651   \n",
      "37   NaN  $44,736   $47,778   $47,804   $44,448   \n",
      "38   NaN  $42,322   $43,654   $43,531   $38,629   \n",
      "39   NaN  $43,674   $46,549   $44,670   $42,061   \n",
      "40   NaN  $44,926   $47,576   $46,253   $46,395   \n",
      "41   NaN  $41,664   $42,822   $41,567   $40,001   \n",
      "42   NaN  $44,625   $43,329   $40,822   $39,454   \n",
      "43   NaN  $43,028   $43,508   $41,452   $40,827   \n",
      "44   NaN  $42,492   $43,733   $40,926   $37,943   \n",
      "45   NaN  $41,725   $43,614   $42,367   $40,676   \n",
      "46   NaN  $40,489   $42,666   $40,554   $38,473   \n",
      "47   NaN  $40,072   $41,538   $40,267   $38,466   \n",
      "48   NaN  $40,489   $41,393   $42,229   $41,679   \n",
      "49   NaN  $37,435   $37,989   $37,060   $37,227   \n",
      "50   NaN  $36,646   $37,790   $36,338   $35,261   \n"
     ]
    }
   ],
   "source": [
    "#DATA CLEANING\n",
    "import numpy as np\n",
    "import pandas as pd\n",
    "\n",
    "df_income = pd.read_csv(\"incomePerState.csv\")\n",
    "#drop district of columbia value\n",
    "df_income = df_income[df_income.state != 'District of Columbia?']\n",
    "\n",
    "\n",
    "\n",
    "print(df_income)\n"
   ]
  },
  {
   "cell_type": "markdown",
   "metadata": {
    "collapsed": true
   },
   "source": [
    "Currently, we have data for the average income of every state. This is good, but we don't want the average income of every state, we instead want to have the average income of all the states for a given year. In doing so, it's going to be easier to compare yearly average income in the united states with the average tuition cost of an education."
   ]
  },
  {
   "cell_type": "code",
   "execution_count": null,
   "metadata": {
    "collapsed": true
   },
   "outputs": [],
   "source": []
  },
  {
   "cell_type": "markdown",
   "metadata": {
    "collapsed": true
   },
   "source": [
    "# Data Analysis and Results\n",
    "\n",
    "\n"
   ]
  },
  {
   "cell_type": "markdown",
   "metadata": {
    "collapsed": true
   },
   "source": [
    "# Privacy/Ethics Considerations"
   ]
  },
  {
   "cell_type": "markdown",
   "metadata": {},
   "source": [
    "When looking for data, we made sure to take our data into careful consideration. We understand that some of the information must be kept private because it involves personal details about certain individuals. We looked at several data sets that involved zip codes and city names; we were prepared to clean these variables, but we felt the dataset was insufficient, so it was not used. The current data we used contained state names, and though state names are not a huge privacy issue, we decided to leave them out since they weren't necessary for our data conclusion. Other than that, the data we used contained only numbers. Moreover, these numbers were income values that were used during our data analysis."
   ]
  },
  {
   "cell_type": "markdown",
   "metadata": {
    "collapsed": true
   },
   "source": [
    "# Conclusions and Discussion "
   ]
  },
  {
   "cell_type": "code",
   "execution_count": null,
   "metadata": {
    "collapsed": true
   },
   "outputs": [],
   "source": []
  }
 ],
 "metadata": {
  "kernelspec": {
   "display_name": "Python 3",
   "language": "python",
   "name": "python3"
  },
  "language_info": {
   "codemirror_mode": {
    "name": "ipython",
    "version": 3
   },
   "file_extension": ".py",
   "mimetype": "text/x-python",
   "name": "python",
   "nbconvert_exporter": "python",
   "pygments_lexer": "ipython3",
   "version": "3.6.3"
  }
 },
 "nbformat": 4,
 "nbformat_minor": 2
}
