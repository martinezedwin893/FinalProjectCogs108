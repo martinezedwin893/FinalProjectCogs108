{
 "cells": [
  {
   "cell_type": "code",
   "execution_count": 11,
   "metadata": {},
   "outputs": [
    {
     "name": "stdout",
     "output_type": "stream",
     "text": [
      "    Avg. Instate Tuition  Avg. Out-of-State Tuition  Year\n",
      "0            6824.317881                8589.959964  2000\n",
      "1            7412.965074                9080.665982  2001\n",
      "2            7865.650249                9599.365920  2002\n",
      "3            8400.728266               10229.640845  2003\n",
      "4            9008.924057               10893.408430  2004\n",
      "5            9590.712943               11559.997327  2005\n",
      "6           10134.275606               12180.132233  2006\n",
      "7           10738.040895               12837.105846  2007\n",
      "8           11395.475872               13601.342209  2008\n",
      "9           12072.308937               14291.951883  2009\n",
      "10          12547.094620               14811.775078  2010\n",
      "11          13085.388600               15385.346425  2011\n",
      "12          13539.942078               15898.982126  2012\n",
      "13          13857.479361               16305.035223  2013\n",
      "14          14160.118130               16758.999522  2014\n",
      "15          14515.126191               17285.664466  2015\n"
     ]
    }
   ],
   "source": [
    "import numpy as np\n",
    "import pandas as pd\n",
    "import matplotlib.pyplot as plt\n",
    "import glob\n",
    "\n",
    "fields=['TUITIONFEE_IN','TUITIONFEE_OUT'] #columns to extract from CSV files\n",
    "\n",
    "path ='CollegeScorecard_Raw_Data'\n",
    "allFiles = glob.glob(path + \"/*.csv\")\n",
    "avg_instate_tuition=[]\n",
    "avg_outstate_tuition=[]\n",
    "years=[]\n",
    "for file_ in allFiles:\n",
    "    df = pd.read_csv(file_,usecols=fields)\n",
    "    avg_instate = df['TUITIONFEE_IN'].mean()\n",
    "    avg_outstate=df['TUITIONFEE_OUT'].mean()\n",
    "    avg_instate_tuition.append(avg_instate)\n",
    "    avg_outstate_tuition.append(avg_outstate)\n",
    "\n",
    "timeline = range(2000,2016)\n",
    "for time in timeline:\n",
    "    years.append(time)\n",
    "\n",
    "avg_tuition = pd.DataFrame({'Year': years,'Avg. Instate Tuition': avg_instate_tuition,'Avg. Out-of-State Tuition': avg_outstate_tuition})\n",
    "\n"
   ]
  },
  {
   "cell_type": "code",
   "execution_count": null,
   "metadata": {
    "collapsed": true
   },
   "outputs": [],
   "source": [
    "\n",
    "\n",
    "\n"
   ]
  },
  {
   "cell_type": "code",
   "execution_count": null,
   "metadata": {
    "collapsed": true
   },
   "outputs": [],
   "source": []
  }
 ],
 "metadata": {
  "kernelspec": {
   "display_name": "Python 3",
   "language": "python",
   "name": "python3"
  },
  "language_info": {
   "codemirror_mode": {
    "name": "ipython",
    "version": 3
   },
   "file_extension": ".py",
   "mimetype": "text/x-python",
   "name": "python",
   "nbconvert_exporter": "python",
   "pygments_lexer": "ipython3",
   "version": "3.6.3"
  }
 },
 "nbformat": 4,
 "nbformat_minor": 2
}
